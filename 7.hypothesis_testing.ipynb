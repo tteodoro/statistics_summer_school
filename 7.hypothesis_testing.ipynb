{
 "cells": [
  {
   "cell_type": "markdown",
   "metadata": {},
   "source": [
    "7. Hypothesis Testing: Introduction to Hypothesis Testing (p-value Approach)"
   ]
  },
  {
   "cell_type": "markdown",
   "metadata": {},
   "source": [
    "Computing the Test Statistic"
   ]
  },
  {
   "cell_type": "code",
   "execution_count": 220,
   "metadata": {},
   "outputs": [],
   "source": [
    "import numpy as np"
   ]
  },
  {
   "cell_type": "code",
   "execution_count": 246,
   "metadata": {},
   "outputs": [],
   "source": [
    "def z_statistic(u0, n, X=0, std=1, prop=False):\n",
    "    \"\"\"\n",
    "    The Z-statistic for a Z-test for a population\n",
    "    u is obtained by transforming the sample mean\n",
    "    X into a Z-score.\n",
    "    \n",
    "    Parameters\n",
    "    ------------------------\n",
    "    u0  : hypothesized mean\n",
    "    n   : number of samples\n",
    "    X   : sample mean\n",
    "    std : standard deviation of population\n",
    "    prop: allows calculating z for proportions\n",
    "    \"\"\"\n",
    "    if prop:\n",
    "        return ((X - u0) / np.sqrt(u0 * (1 - u0) / n))\n",
    "    else:\n",
    "        return ((X - u0) / (std/np.sqrt(n)))"
   ]
  },
  {
   "cell_type": "code",
   "execution_count": 247,
   "metadata": {},
   "outputs": [
    {
     "data": {
      "text/plain": [
       "-4.497658079466679"
      ]
     },
     "execution_count": 247,
     "metadata": {},
     "output_type": "execute_result"
    }
   ],
   "source": [
    "std = 3.1\n",
    "u0  = 13\n",
    "n   = 57\n",
    "X   = 13\n",
    "s   = 3.0\n",
    "\n",
    "z_statistic(u0,n,X,std)"
   ]
  },
  {
   "cell_type": "markdown",
   "metadata": {},
   "source": [
    "Calculating p and making a decision"
   ]
  },
  {
   "cell_type": "code",
   "execution_count": 232,
   "metadata": {},
   "outputs": [],
   "source": [
    "from scipy.stats import norm"
   ]
  },
  {
   "cell_type": "code",
   "execution_count": 233,
   "metadata": {},
   "outputs": [],
   "source": [
    "def p_value(z, tailed):\n",
    "    \"\"\"\n",
    "    Calculate p-value given a direction 'tailed'.\n",
    "    \n",
    "    Parameters\n",
    "    ---------------\n",
    "    z: z-value\n",
    "    tailed: two, left, right\n",
    "    \"\"\"\n",
    "    if tailed.lower() == 'two':\n",
    "        p = 2 * (1 - norm.cdf(abs(z)))\n",
    "    elif tailed.lower() == 'left':\n",
    "        p = norm.cdf(z)\n",
    "    elif tailed.lower() == 'right':\n",
    "        p = 1 - norm.cdf(z)\n",
    "    return p\n"
   ]
  },
  {
   "cell_type": "code",
   "execution_count": 245,
   "metadata": {},
   "outputs": [
    {
     "data": {
      "text/plain": [
       "0.16900443899979922"
      ]
     },
     "execution_count": 245,
     "metadata": {},
     "output_type": "execute_result"
    }
   ],
   "source": [
    "std   = 1.6\n",
    "n     = 235\n",
    "H0    = 14.5\n",
    "alpha = 0.03\n",
    "X     = 14.4\n",
    "\n",
    "tailed = 'left'\n",
    "\n",
    "Z = z_statistic(H0, n, X, std)\n",
    "p_value(Z, tailed)"
   ]
  },
  {
   "cell_type": "markdown",
   "metadata": {},
   "source": [
    "Connecting hypothesis testing and confidence interval"
   ]
  },
  {
   "cell_type": "code",
   "execution_count": 210,
   "metadata": {},
   "outputs": [],
   "source": [
    "def critical_value(ci):\n",
    "    \"\"\"\n",
    "    Calculates the critical value z*\n",
    "    \n",
    "    Parameters\n",
    "    ----------\n",
    "    ci: Confidence interval in %\n",
    "    \"\"\"\n",
    "    return norm.ppf((100+ci)/200,loc=0,scale=1)\n",
    "\n",
    "def confidence_interval(n, std, x, ci):\n",
    "    \"\"\"\n",
    "    Returns lower and upper bounds of a confidence interval\n",
    "    \n",
    "    Parameters\n",
    "    ----------\n",
    "    n  : sample size\n",
    "    std: standard deviation of the population\n",
    "    x  : mean of the sample\n",
    "    ci : Confidence interval in %\n",
    "    \"\"\"\n",
    "    error = critical_value(ci) * (std / np.sqrt(n))\n",
    "    return x-error, x+error"
   ]
  },
  {
   "cell_type": "code",
   "execution_count": 216,
   "metadata": {},
   "outputs": [
    {
     "name": "stdout",
     "output_type": "stream",
     "text": [
      "CI = (99.625,106.375)\n"
     ]
    }
   ],
   "source": [
    "n   = 120 #Number of icelanders surveiyed\n",
    "x   = 103 #Avg IQ Icelanders\n",
    "std = 18\n",
    "ci  = 96 \n",
    "\n",
    "lower, upper = confidence_interval(n,std,x,ci)\n",
    "print ('CI = ({:6.3f},{:6.3f})'.format(lower, upper))"
   ]
  },
  {
   "cell_type": "code",
   "execution_count": 217,
   "metadata": {},
   "outputs": [
    {
     "name": "stdout",
     "output_type": "stream",
     "text": [
      "CI = (90.842,97.158)\n"
     ]
    }
   ],
   "source": [
    "n   = 137 #Number of icelanders surveiyed\n",
    "x   = 94 #Avg IQ Icelanders\n",
    "std = 18\n",
    "ci  = 96 \n",
    "\n",
    "lower, upper = confidence_interval(n,std,x,ci)\n",
    "print ('CI = ({:6.3f},{:6.3f})'.format(lower, upper))"
   ]
  },
  {
   "cell_type": "code",
   "execution_count": 229,
   "metadata": {},
   "outputs": [
    {
     "data": {
      "text/plain": [
       "0.028395033359778"
      ]
     },
     "execution_count": 229,
     "metadata": {},
     "output_type": "execute_result"
    }
   ],
   "source": [
    "u0 = 0.85    #Claim by politician\n",
    "n  = 125     #Number of citizens surveiyed\n",
    "a  = 0.04    #Level of significance\n",
    "p  = 115 / n #Proportion that agrees\n",
    "tail = 'two' #H0 = u0\n",
    "\n",
    "z = z_statistic(u0, n, p, prop=True)\n",
    "p_value(z, tail)"
   ]
  },
  {
   "cell_type": "markdown",
   "metadata": {},
   "source": [
    "Small-sample proportion test: test statistic and p-value"
   ]
  },
  {
   "cell_type": "code",
   "execution_count": 167,
   "metadata": {},
   "outputs": [],
   "source": [
    "from scipy.stats import binom\n",
    "\n",
    "def p_value_nsmall(X, n, pi0, tailed):\n",
    "    \"\"\"\n",
    "    Calculate p-value given a direction 'tailed'\n",
    "    for a small sample.\n",
    "    \n",
    "    Parameters\n",
    "    ---------------\n",
    "    X:   test statistic\n",
    "    n:   number of observations\n",
    "    pi0: hypothesis\n",
    "    tailed: two, left, right\n",
    "    \"\"\"\n",
    "    if tailed.lower() == 'two':\n",
    "        p = 2 * min((binom.cdf(X, n, pi0)),(1 - binom.cdf(X-1, n, pi0)))\n",
    "    elif tailed.lower() == 'left':\n",
    "        p = binom.cdf(X, n, pi0)\n",
    "    elif tailed.lower() == 'right':\n",
    "        p = 1 - binom.cdf(X-1, n, pi0)\n",
    "    return p"
   ]
  },
  {
   "cell_type": "code",
   "execution_count": 168,
   "metadata": {},
   "outputs": [
    {
     "data": {
      "text/plain": [
       "0.9872337433448695"
      ]
     },
     "execution_count": 168,
     "metadata": {},
     "output_type": "execute_result"
    }
   ],
   "source": [
    "pi0 = 0.20  #Claim by cassino\n",
    "n  = 29     #Number of plays\n",
    "X  = 2      #Number of wins\n",
    "a  = 0.08   #Level of significance\n",
    "tail = 'right' #H0 < u0\n",
    "\n",
    "p_value_nsmall(X,n,pi0,tail)"
   ]
  },
  {
   "cell_type": "code",
   "execution_count": 169,
   "metadata": {},
   "outputs": [
    {
     "data": {
      "text/plain": [
       "0.04920333524002274"
      ]
     },
     "execution_count": 169,
     "metadata": {},
     "output_type": "execute_result"
    }
   ],
   "source": [
    "pi0 = 0.25  #Claim by cassino\n",
    "n  = 23     #Number of plays\n",
    "X  = 2      #Number of wins\n",
    "a  = 0.09   #Level of significance\n",
    "tail = 'left' #H0 < u0\n",
    "\n",
    "p_value_nsmall(X,n,pi0,tail)"
   ]
  },
  {
   "cell_type": "code",
   "execution_count": 170,
   "metadata": {},
   "outputs": [
    {
     "data": {
      "text/plain": [
       "14.0"
      ]
     },
     "execution_count": 170,
     "metadata": {},
     "output_type": "execute_result"
    }
   ],
   "source": [
    "pi0 = 0.5  #Fair coin\n",
    "n  = 22    #Number of plays\n",
    "a  = 0.10  #Level of significance\n",
    "tail = 'right' #H0 > u0\n",
    "\n",
    "binom.ppf(1-a,n,pi0)"
   ]
  },
  {
   "cell_type": "code",
   "execution_count": 171,
   "metadata": {},
   "outputs": [
    {
     "data": {
      "text/plain": [
       "7.0"
      ]
     },
     "execution_count": 171,
     "metadata": {},
     "output_type": "execute_result"
    }
   ],
   "source": [
    "pi0 = 0.25  #Fair coin\n",
    "n  = 17     #Number of plays\n",
    "a  = 0.10   #Level of significance\n",
    "tail = 'right' #H0 > u0\n",
    "\n",
    "binom.ppf(1-a,n,pi0)"
   ]
  },
  {
   "cell_type": "markdown",
   "metadata": {},
   "source": [
    "One-sample t-test: Test statistic and p-value"
   ]
  },
  {
   "cell_type": "code",
   "execution_count": 172,
   "metadata": {},
   "outputs": [],
   "source": [
    "from scipy.stats import t\n",
    "\n",
    "def t_statistic(u0, n, X=0, s=1):\n",
    "    \"\"\"\n",
    "    The t-statistic for a t-test.\n",
    "    \\[ t = \\frac{\\hat{X} - u_0}{s/\\sqrt{n}} \\] \n",
    "    \n",
    "    Parameters\n",
    "    ------------------------\n",
    "    u0  : hypothesized mean\n",
    "    n   : number of samples\n",
    "    X   : sample mean\n",
    "    s   : standard deviation of the sample\n",
    "    \"\"\"\n",
    "    return ((X - u0) / (s / np.sqrt(n)))\n",
    "\n",
    "def p_value_ttest(ts, n, tailed):\n",
    "    \"\"\"\n",
    "    Calculate p-value given a direction 'tailed'.\n",
    "    \n",
    "    Parameters\n",
    "    ---------------\n",
    "    ts: t-value\n",
    "    n : number of samples (df is calculated within the code)\n",
    "    tailed: two, left, right\n",
    "    \"\"\"\n",
    "    df = n - 1\n",
    "    if tailed.lower() == 'two':\n",
    "        p = 2 * (t.cdf(ts, df))\n",
    "    elif tailed.lower() == 'left':\n",
    "        p = t.cdf(ts, df)\n",
    "    elif tailed.lower() == 'right':\n",
    "        p = 1 - t.cdf(ts, df)\n",
    "    return p"
   ]
  },
  {
   "cell_type": "code",
   "execution_count": 203,
   "metadata": {},
   "outputs": [
    {
     "name": "stdout",
     "output_type": "stream",
     "text": [
      "p = 0.2651\n",
      "On the basis of this p-value, H0 should not be rejected, because p > a\n"
     ]
    }
   ],
   "source": [
    "n  = 55    #Cars analyzed\n",
    "u0 = 470   #Current range (km)\n",
    "X  = 467.1 #Observed range new batteries (km)\n",
    "s  = 19.1  #Standard error sample \n",
    "tail = 'two' #H0 = u0\n",
    "\n",
    "a = 0.01\n",
    "\n",
    "ts = t_statistic(u0, n, X, s)\n",
    "p = p_value_ttest(ts, n, tail)\n",
    "\n",
    "print('p = {:>6.4f}'.format(p))\n",
    "if p < a:\n",
    "    print('On the basis of this p-value, H0 should be rejected, \\\n",
    "because p < a')\n",
    "else:\n",
    "    print('On the basis of this p-value, H0 should not be rejected, \\\n",
    "because p > a')"
   ]
  },
  {
   "cell_type": "code",
   "execution_count": 206,
   "metadata": {},
   "outputs": [
    {
     "name": "stdout",
     "output_type": "stream",
     "text": [
      "p = 0.0109\n",
      "On the basis of this p-value, H0 should be rejected, because p < a\n"
     ]
    }
   ],
   "source": [
    "n  = 31    \n",
    "u0 = 36   \n",
    "X  = 38 \n",
    "s  = 4.6\n",
    "tail = 'right' \n",
    "\n",
    "a = 0.1\n",
    "\n",
    "ts = t_statistic(u0, n, X, s)\n",
    "p = p_value_ttest(ts, n, tail)\n",
    "\n",
    "print('p = {:>6.4f}'.format(p))\n",
    "if p < a:\n",
    "    print('On the basis of this p-value, H0 should be rejected, \\\n",
    "because p < a')\n",
    "else:\n",
    "    print('On the basis of this p-value, H0 should not be rejected, \\\n",
    "because p > a')"
   ]
  },
  {
   "cell_type": "code",
   "execution_count": null,
   "metadata": {},
   "outputs": [],
   "source": []
  }
 ],
 "metadata": {
  "kernelspec": {
   "display_name": "Python 3",
   "language": "python",
   "name": "python3"
  },
  "language_info": {
   "codemirror_mode": {
    "name": "ipython",
    "version": 3
   },
   "file_extension": ".py",
   "mimetype": "text/x-python",
   "name": "python",
   "nbconvert_exporter": "python",
   "pygments_lexer": "ipython3",
   "version": "3.6.8"
  }
 },
 "nbformat": 4,
 "nbformat_minor": 2
}
