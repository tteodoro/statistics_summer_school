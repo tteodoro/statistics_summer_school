{
 "cells": [
  {
   "cell_type": "code",
   "execution_count": 277,
   "metadata": {},
   "outputs": [],
   "source": [
    "import numpy as np\n",
    "import pandas as pd\n",
    "from scipy.stats import chi2"
   ]
  },
  {
   "cell_type": "code",
   "execution_count": 296,
   "metadata": {},
   "outputs": [],
   "source": [
    "#Linear equation\n",
    "f = lambda x: 9.441 - 0.136*x "
   ]
  },
  {
   "cell_type": "code",
   "execution_count": 300,
   "metadata": {},
   "outputs": [
    {
     "data": {
      "text/plain": [
       "9.305000000000001"
      ]
     },
     "execution_count": 300,
     "metadata": {},
     "output_type": "execute_result"
    }
   ],
   "source": [
    "f(1)"
   ]
  },
  {
   "cell_type": "markdown",
   "metadata": {},
   "source": [
    "Chi-Square Goodness of Fit Test"
   ]
  },
  {
   "cell_type": "code",
   "execution_count": 279,
   "metadata": {},
   "outputs": [],
   "source": [
    "def chi_squared(fo, fe):\n",
    "    return np.sum(((fo-fe)**2)/fe)\n",
    "\n",
    "def p_value_chi2(xi2, df):\n",
    "    return 1 - chi2.cdf(xi,df)"
   ]
  },
  {
   "cell_type": "code",
   "execution_count": 289,
   "metadata": {},
   "outputs": [],
   "source": [
    "#pi = np.array([0.36,0.24,0.17,0.23])\n",
    "pi = np.array([1/7]*7)\n",
    "fo = np.array([58,63,63,67,43,47,51])\n",
    "fe = np.array([pi*sum(fo)])"
   ]
  },
  {
   "cell_type": "code",
   "execution_count": 290,
   "metadata": {},
   "outputs": [
    {
     "name": "stdout",
     "output_type": "stream",
     "text": [
      "Chi2 = 8.893\n",
      "p    = 0.180\n"
     ]
    }
   ],
   "source": [
    "xi = chi_squared(fo,fe)\n",
    "df = len(pi)-1\n",
    "p  = p_value_chi2(xi,df)\n",
    "\n",
    "print('Chi2 = {:5.3f}'.format(xi))\n",
    "print('p    = {:5.3f}'.format(p))"
   ]
  },
  {
   "cell_type": "markdown",
   "metadata": {},
   "source": [
    "Chi-Squared test for independence"
   ]
  },
  {
   "cell_type": "code",
   "execution_count": 275,
   "metadata": {},
   "outputs": [],
   "source": [
    "pre     = np.array([34.,30.,35.,19.])\n",
    "no_pre  = np.array([31.,29.,38.,39.])\n",
    "school = pd.DataFrame([pre,no_pre],columns=['A','B','C','D'],index=['Pre','No Pre'])\n",
    "\n",
    "fe = school.copy()\n",
    "school_tot = school.copy()\n",
    "\n",
    "school_tot.loc['Total'] = school_tot.sum()\n",
    "school_tot['Total'] = school_tot.sum(axis=1)\n",
    "\n",
    "for i in fe:\n",
    "    for j in range(len(fe)):\n",
    "        fe[i][j] = school_tot['Total'][j] * school_tot.loc['Total'][i] / school_tot['Total']['Total']\n",
    "        \n",
    "xi = (school - fe)**2 / fe \n",
    "xi = xi.values.sum()\n",
    "\n",
    "df = (len(fe) - 1) * (len(fe.columns) - 1)"
   ]
  },
  {
   "cell_type": "code",
   "execution_count": 276,
   "metadata": {},
   "outputs": [
    {
     "name": "stdout",
     "output_type": "stream",
     "text": [
      "Chi2 = 5.792\n",
      "p va = 0.122\n"
     ]
    }
   ],
   "source": [
    "print ('Chi2 = {:5.3f}'.format(xi))\n",
    "print('p va = {:5.3f}'.format(p_value_chi2(xi, df)))"
   ]
  },
  {
   "cell_type": "code",
   "execution_count": null,
   "metadata": {},
   "outputs": [],
   "source": []
  }
 ],
 "metadata": {
  "kernelspec": {
   "display_name": "Python 3",
   "language": "python",
   "name": "python3"
  },
  "language_info": {
   "codemirror_mode": {
    "name": "ipython",
    "version": 3
   },
   "file_extension": ".py",
   "mimetype": "text/x-python",
   "name": "python",
   "nbconvert_exporter": "python",
   "pygments_lexer": "ipython3",
   "version": "3.6.8"
  }
 },
 "nbformat": 4,
 "nbformat_minor": 2
}
