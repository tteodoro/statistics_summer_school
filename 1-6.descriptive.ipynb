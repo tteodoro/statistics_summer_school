{
 "cells": [
  {
   "cell_type": "code",
   "execution_count": 102,
   "metadata": {},
   "outputs": [],
   "source": [
    "import numpy as np\n",
    "from scipy.stats import iqr\n",
    "from scipy.stats import norm\n",
    "from scipy.stats import mode\n",
    "import math"
   ]
  },
  {
   "cell_type": "code",
   "execution_count": 66,
   "metadata": {},
   "outputs": [],
   "source": [
    "def percentile_rank(arr, v):\n",
    "    \"\"\"\n",
    "    Returns the percentile rank of a value in a given array\n",
    "    \"\"\"\n",
    "    return sum(arr <= v) / len(arr) * 100\n",
    "\n",
    "def outliers_IRR(arr):\n",
    "    \"\"\"\n",
    "    Returns an array with outliers from the input array\n",
    "    according to the interquartile range rule\n",
    "    \"\"\"\n",
    "    #assumes numpy (np) and iqr from scipy.stats loaded\n",
    "    maximum = np.percentile(arr,75) + 1.5 * iqr(arr) \n",
    "    minimum = np.percentile(arr,25) - 1.5 * iqr(arr)\n",
    "    \n",
    "    outliers = arr[(arr < minimum) | (arr > maximum)]\n",
    "    return outliers\n",
    "\n",
    "def SS(arr):\n",
    "    \"\"\"\n",
    "    Returns sum of squares of array\n",
    "    \"\"\"\n",
    "    squares = (arr - np.mean(arr))**2\n",
    "    return sum(squares)\n",
    "\n",
    "def z_score(X, u, std):\n",
    "    return (X - u) / std"
   ]
  },
  {
   "cell_type": "code",
   "execution_count": 126,
   "metadata": {},
   "outputs": [],
   "source": [
    "arr = np.array([13,25,7,15,7,11,24,1,25,9,12,17,16,8,12,8])"
   ]
  },
  {
   "cell_type": "code",
   "execution_count": 127,
   "metadata": {},
   "outputs": [
    {
     "data": {
      "text/plain": [
       "16.25"
      ]
     },
     "execution_count": 127,
     "metadata": {},
     "output_type": "execute_result"
    }
   ],
   "source": [
    "np.percentile(arr,75)"
   ]
  },
  {
   "cell_type": "code",
   "execution_count": 112,
   "metadata": {},
   "outputs": [
    {
     "data": {
      "text/plain": [
       "100.0"
      ]
     },
     "execution_count": 112,
     "metadata": {},
     "output_type": "execute_result"
    }
   ],
   "source": [
    "2.4"
   ]
  },
  {
   "cell_type": "code",
   "execution_count": 90,
   "metadata": {},
   "outputs": [
    {
     "data": {
      "text/plain": [
       "array([], dtype=int64)"
      ]
     },
     "execution_count": 90,
     "metadata": {},
     "output_type": "execute_result"
    }
   ],
   "source": [
    "outliers_IRR(arr) "
   ]
  },
  {
   "cell_type": "code",
   "execution_count": 80,
   "metadata": {},
   "outputs": [
    {
     "data": {
      "text/plain": [
       "3.1622776601683795"
      ]
     },
     "execution_count": 80,
     "metadata": {},
     "output_type": "execute_result"
    }
   ],
   "source": [
    "np.std(arr,ddof=1)"
   ]
  },
  {
   "cell_type": "code",
   "execution_count": 125,
   "metadata": {},
   "outputs": [
    {
     "data": {
      "text/plain": [
       "4.69041575982343"
      ]
     },
     "execution_count": 125,
     "metadata": {},
     "output_type": "execute_result"
    }
   ],
   "source": [
    "np.std(arr,ddof=1)"
   ]
  },
  {
   "cell_type": "code",
   "execution_count": 22,
   "metadata": {},
   "outputs": [
    {
     "data": {
      "text/plain": [
       "0.20727953271553645"
      ]
     },
     "execution_count": 22,
     "metadata": {},
     "output_type": "execute_result"
    }
   ],
   "source": [
    "#Probability of mean of sample falling within given boudaries\n",
    "norm.cdf(167,loc=165,scale=(33/9)) - norm.cdf(165,loc=165,scale=(33/9))"
   ]
  },
  {
   "cell_type": "code",
   "execution_count": 155,
   "metadata": {},
   "outputs": [
    {
     "data": {
      "text/plain": [
       "220.8585214424896"
      ]
     },
     "execution_count": 155,
     "metadata": {},
     "output_type": "execute_result"
    }
   ],
   "source": [
    "norm.ppf(0.9,loc=215,scale=(64/np.sqrt(196)))"
   ]
  },
  {
   "cell_type": "code",
   "execution_count": 27,
   "metadata": {},
   "outputs": [
    {
     "data": {
      "text/plain": [
       "-0.2449954980675068"
      ]
     },
     "execution_count": 27,
     "metadata": {},
     "output_type": "execute_result"
    }
   ],
   "source": [
    "#Finds q for which P(X < q)\n",
    "norm.ppf((0.05/2),loc=0,scale=(1/8))"
   ]
  },
  {
   "cell_type": "markdown",
   "metadata": {},
   "source": [
    "Sampling Distribution of the Sample Proportion"
   ]
  },
  {
   "cell_type": "code",
   "execution_count": 138,
   "metadata": {},
   "outputs": [],
   "source": [
    "def sample_proportion_STD(n, pi):\n",
    "    return np.sqrt(pi*(1-pi)/n)\n",
    "\n",
    "def isnormal(n, pi):\n",
    "    if n * pi >= 10 and n * (1 - pi) >= 10:\n",
    "        return True\n",
    "    else:\n",
    "        return False"
   ]
  },
  {
   "cell_type": "code",
   "execution_count": 140,
   "metadata": {},
   "outputs": [
    {
     "name": "stdout",
     "output_type": "stream",
     "text": [
      "True\n"
     ]
    },
    {
     "data": {
      "text/plain": [
       "0.3064408117066181"
      ]
     },
     "execution_count": 140,
     "metadata": {},
     "output_type": "execute_result"
    }
   ],
   "source": [
    "pi = 0.5\n",
    "n  = 160\n",
    "# Calculate P(^p > 0.31)\n",
    "p = 0.52\n",
    "\n",
    "print(isnormal(n, pi))\n",
    "\n",
    "1 - norm.cdf(p,loc=pi,scale=sample_proportion_STD(n, pi))"
   ]
  },
  {
   "cell_type": "markdown",
   "metadata": {},
   "source": [
    "5.4."
   ]
  },
  {
   "cell_type": "code",
   "execution_count": 43,
   "metadata": {},
   "outputs": [
    {
     "name": "stdout",
     "output_type": "stream",
     "text": [
      "True\n"
     ]
    },
    {
     "data": {
      "text/plain": [
       "0.16083517063280395"
      ]
     },
     "execution_count": 43,
     "metadata": {},
     "output_type": "execute_result"
    }
   ],
   "source": [
    "pi = 0.28\n",
    "n  = 220\n",
    "# Calculate P(^p > 0.31)\n",
    "p = 0.31\n",
    "\n",
    "print(isnormal(n, pi))\n",
    "\n",
    "1 - norm.cdf(p,loc=pi,scale=sample_proportion_STD(n, pi))"
   ]
  },
  {
   "cell_type": "markdown",
   "metadata": {},
   "source": [
    "5.5."
   ]
  },
  {
   "cell_type": "code",
   "execution_count": 143,
   "metadata": {},
   "outputs": [
    {
     "name": "stdout",
     "output_type": "stream",
     "text": [
      "0.5016292230715562\n"
     ]
    }
   ],
   "source": [
    "pi = 0.62\n",
    "n  = 120\n",
    "# Calculate P(0.59 <= ^p <= 0.65)\n",
    "pmin = 0.59\n",
    "pmax = 0.65\n",
    "\n",
    "if isnormal(n, pi):\n",
    "    u = pi\n",
    "    print(norm.cdf(pmax,loc=u,scale=sample_proportion_STD(n, pi))\\\n",
    "    -norm.cdf(pmin,loc=u,scale=sample_proportion_STD(n, pi)))\n",
    "else:\n",
    "    print('Conditions for normality not satisfied')"
   ]
  },
  {
   "cell_type": "markdown",
   "metadata": {},
   "source": [
    "5.6."
   ]
  },
  {
   "cell_type": "code",
   "execution_count": 50,
   "metadata": {},
   "outputs": [
    {
     "name": "stdout",
     "output_type": "stream",
     "text": [
      "0.6421118936315154\n"
     ]
    }
   ],
   "source": [
    "pi = 0.12\n",
    "n  = 140\n",
    "# Calculate P(^p < 0.13)\n",
    "p = 0.13\n",
    "\n",
    "if isnormal(n, pi):\n",
    "    u = pi\n",
    "    print(norm.cdf(p,loc=u,scale=sample_proportion_STD(n, pi)))\n",
    "else:\n",
    "    print('Conditions for normality not satisfied')"
   ]
  },
  {
   "cell_type": "markdown",
   "metadata": {},
   "source": [
    "6. Parameter Estimation and Confidence Intervals"
   ]
  },
  {
   "cell_type": "code",
   "execution_count": 27,
   "metadata": {},
   "outputs": [],
   "source": [
    "def confidence_interval_95(n, sigma, X):\n",
    "    \"\"\"\n",
    "    Returns lower and upper bounds of 95% confidence interval\n",
    "    \"\"\"\n",
    "    error = 1.96 * (sigma / np.sqrt(n))\n",
    "    print ('({:6.3f},{:6.3f})'.format(X-error, X+error))\n",
    "\n",
    "def critical_value(C):\n",
    "    \"\"\"\n",
    "    Calculates the critical value z*\n",
    "    \"\"\"\n",
    "    return norm.ppf((100+C)/200,loc=0,scale=1)\n",
    "\n",
    "def margin_of_error(C, sigma, n):\n",
    "    \"\"\"\n",
    "    Returns margin of error ME\n",
    "    \"\"\"\n",
    "    return critical_value(C) * (sigma/np.sqrt(n))\n",
    "\n",
    "def confidence_interval(n, sigma, X, C):\n",
    "    \"\"\"\n",
    "    Returns lower and upper bounds of a confidence interval\n",
    "    \"\"\"\n",
    "    error = critical_value(C) * (sigma / np.sqrt(n))\n",
    "    print ('CI = ({:6.3f},{:6.3f})'.format(X-error, X+error))\n",
    "\n",
    "def minimum_ss(C, sigma, k):\n",
    "    \"\"\"\n",
    "    Calculates the minimum n sample size for the\n",
    "    margin of error of the C% confidence interval\n",
    "    for the population mean, u, to be no larger than k \n",
    "    \"\"\"\n",
    "    return (critical_value(C) * sigma / k ) ** 2"
   ]
  },
  {
   "cell_type": "code",
   "execution_count": 137,
   "metadata": {},
   "outputs": [
    {
     "name": "stdout",
     "output_type": "stream",
     "text": [
      "0.8730373476863309\n",
      "CI = (10.327,12.073)\n",
      "96.03647051735311\n"
     ]
    }
   ],
   "source": [
    "C = 95\n",
    "sigma = 5\n",
    "X = 11.2\n",
    "n = 126\n",
    "\n",
    "print(margin_of_error(C,sigma,n))\n",
    "confidence_interval(n,sigma,X,C)\n",
    "\n",
    "k = 1\n",
    "print(minimum_ss(C,sigma,k))"
   ]
  },
  {
   "cell_type": "markdown",
   "metadata": {},
   "source": [
    "6.1."
   ]
  },
  {
   "cell_type": "code",
   "execution_count": 8,
   "metadata": {},
   "outputs": [
    {
     "name": "stdout",
     "output_type": "stream",
     "text": [
      "(11.561,12.239)\n"
     ]
    }
   ],
   "source": [
    "n = 134\n",
    "sigma = 2\n",
    "X = 11.9\n",
    "confidence_interval_95(n, sigma, X)"
   ]
  },
  {
   "cell_type": "markdown",
   "metadata": {},
   "source": [
    "6.1."
   ]
  },
  {
   "cell_type": "code",
   "execution_count": 154,
   "metadata": {},
   "outputs": [
    {
     "name": "stdout",
     "output_type": "stream",
     "text": [
      "0.0030570620877683093\n",
      "CI = ( 2.460, 2.466)\n",
      "0.009345628608470333\n"
     ]
    }
   ],
   "source": [
    "C = 94\n",
    "sigma = 0.0514\n",
    "X = 2.463\n",
    "n = 1000\n",
    "\n",
    "print(margin_of_error(C,sigma,n))\n",
    "confidence_interval(n,sigma,X,C)\n",
    "\n",
    "k = 1\n",
    "print(minimum_ss(C,sigma,k))"
   ]
  },
  {
   "cell_type": "markdown",
   "metadata": {},
   "source": [
    "6.2."
   ]
  },
  {
   "cell_type": "code",
   "execution_count": 33,
   "metadata": {},
   "outputs": [
    {
     "name": "stdout",
     "output_type": "stream",
     "text": [
      "0.32913888142646885\n",
      "CI = ( 1.951, 2.609)\n",
      "77.03637565629663\n"
     ]
    }
   ],
   "source": [
    "sigma = 1.4 #Days\n",
    "n = 64      #Spaceflights\n",
    "X = 2.28    #Mean travel time (days)\n",
    "C = 94      #Confidence level (%)\n",
    "\n",
    "print(margin_of_error(C, sigma, n))\n",
    "confidence_interval(n,sigma,X,C)\n",
    "\n",
    "k = 0.3\n",
    "print(minimum_ss(C,sigma,k))"
   ]
  },
  {
   "cell_type": "markdown",
   "metadata": {},
   "source": [
    "6.4."
   ]
  },
  {
   "cell_type": "code",
   "execution_count": 40,
   "metadata": {},
   "outputs": [
    {
     "name": "stdout",
     "output_type": "stream",
     "text": [
      "CI = ( 2.307, 2.315)\n"
     ]
    }
   ],
   "source": [
    "n   = 1000 #sample size\n",
    "std = 0.0528\n",
    "X   = 2.311\n",
    "C   = 98\n",
    "\n",
    "confidence_interval(n, std, X, C)"
   ]
  },
  {
   "cell_type": "code",
   "execution_count": 134,
   "metadata": {},
   "outputs": [],
   "source": [
    "def confidence_interval_prop(n, p, C):\n",
    "    \"\"\"\n",
    "    Returns lower and upper bounds of a confidence interval\n",
    "    for the population proportion pi\n",
    "    \"\"\"\n",
    "    error = critical_value(C) * sample_proportion_STD(n, p)\n",
    "    print ('CI = ({:6.3f},{:6.3f})'.format(p-error, p+error))\n",
    "\n",
    "def margin_of_error_prop(C, p, n):\n",
    "    \"\"\"\n",
    "    Returns margin of error ME\n",
    "    \"\"\"\n",
    "    return critical_value(C) * sample_proportion_STD(n, p)\n",
    "\n",
    "def minimum_ss_prop(C, k):\n",
    "    \"\"\"\n",
    "    Calculates the minimum n sample size for the\n",
    "    margin of error of the C% confidence interval\n",
    "    for the population proportion, pi, to be no larger than k \n",
    "    \"\"\"\n",
    "    return math.ceil(0.25 * (critical_value(C) / k)**2 )"
   ]
  },
  {
   "cell_type": "code",
   "execution_count": 142,
   "metadata": {},
   "outputs": [
    {
     "name": "stdout",
     "output_type": "stream",
     "text": [
      "CI = ( 0.400, 0.440)\n",
      "0.020334173351130188\n",
      "2052\n"
     ]
    }
   ],
   "source": [
    "n = 1934\n",
    "p = 812/n\n",
    "C = 93\n",
    "k = 0.02\n",
    "\n",
    "if isnormal(n, p):\n",
    "    confidence_interval_prop(n, p, C)\n",
    "    print(margin_of_error_prop(C,p,n))\n",
    "else:\n",
    "    print('Conditions for normality not satisfied')\n",
    "\n",
    "print(minimum_ss_prop(C, k))"
   ]
  },
  {
   "cell_type": "markdown",
   "metadata": {},
   "source": [
    "6.1."
   ]
  },
  {
   "cell_type": "code",
   "execution_count": 53,
   "metadata": {},
   "outputs": [
    {
     "name": "stdout",
     "output_type": "stream",
     "text": [
      "CI = ( 0.076, 0.144)\n",
      "0.033949952539364885\n",
      "1309\n"
     ]
    }
   ],
   "source": [
    "n = 400\n",
    "p = 44/n\n",
    "C = 97\n",
    "\n",
    "if isnormal(n, p):\n",
    "    confidence_interval_prop(n, p, C)\n",
    "    print(margin_of_error_prop(C,p,n))\n",
    "else:\n",
    "    print('Conditions for normality not satisfied')\n",
    "\n",
    "print(minimum_ss_prop(C, k))"
   ]
  },
  {
   "cell_type": "markdown",
   "metadata": {},
   "source": [
    "6.2."
   ]
  },
  {
   "cell_type": "code",
   "execution_count": 55,
   "metadata": {},
   "outputs": [
    {
     "name": "stdout",
     "output_type": "stream",
     "text": [
      "CI = ( 0.311, 0.349)\n",
      "0.01907954928893612\n",
      "6764\n"
     ]
    }
   ],
   "source": [
    "n = 1644\n",
    "p = 543/n\n",
    "C = 90\n",
    "\n",
    "if isnormal(n, p):\n",
    "    confidence_interval_prop(n, p, C)\n",
    "    print(margin_of_error_prop(C,p,n))\n",
    "else:\n",
    "    print('Conditions for normality not satisfied')\n",
    "\n",
    "k = 0.01\n",
    "print(minimum_ss_prop(C, k))"
   ]
  },
  {
   "cell_type": "markdown",
   "metadata": {},
   "source": [
    "6.4."
   ]
  },
  {
   "cell_type": "code",
   "execution_count": 57,
   "metadata": {},
   "outputs": [
    {
     "name": "stdout",
     "output_type": "stream",
     "text": [
      "CI = ( 0.151, 0.249)\n",
      "0.04886359706001287\n",
      "8208\n"
     ]
    }
   ],
   "source": [
    "n = 220\n",
    "p = 44/n\n",
    "C = 93\n",
    "\n",
    "if isnormal(n, p):\n",
    "    confidence_interval_prop(n, p, C)\n",
    "    print(margin_of_error_prop(C,p,n))\n",
    "else:\n",
    "    print('Conditions for normality not satisfied')\n",
    "\n",
    "k = 0.01\n",
    "print(minimum_ss_prop(C, k))"
   ]
  },
  {
   "cell_type": "markdown",
   "metadata": {},
   "source": [
    "6.5."
   ]
  },
  {
   "cell_type": "code",
   "execution_count": 151,
   "metadata": {},
   "outputs": [
    {
     "name": "stdout",
     "output_type": "stream",
     "text": [
      "97.39956434743499\n"
     ]
    }
   ],
   "source": [
    "C = 90\n",
    "L = 0.85\n",
    "U = 0.95\n",
    "\n",
    "ME = (U - L) / 2\n",
    "p  = (U + L) / 2\n",
    "\n",
    "n = (critical_value(C)/ME)**2 * (p * (1-p))\n",
    "print (n)"
   ]
  },
  {
   "cell_type": "code",
   "execution_count": 63,
   "metadata": {},
   "outputs": [
    {
     "data": {
      "text/plain": [
       "1.6448536269514722"
      ]
     },
     "execution_count": 63,
     "metadata": {},
     "output_type": "execute_result"
    }
   ],
   "source": [
    "critical_value(C)"
   ]
  },
  {
   "cell_type": "code",
   "execution_count": null,
   "metadata": {},
   "outputs": [],
   "source": []
  }
 ],
 "metadata": {
  "kernelspec": {
   "display_name": "Python 3",
   "language": "python",
   "name": "python3"
  },
  "language_info": {
   "codemirror_mode": {
    "name": "ipython",
    "version": 3
   },
   "file_extension": ".py",
   "mimetype": "text/x-python",
   "name": "python",
   "nbconvert_exporter": "python",
   "pygments_lexer": "ipython3",
   "version": "3.6.8"
  }
 },
 "nbformat": 4,
 "nbformat_minor": 2
}
