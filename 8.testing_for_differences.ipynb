{
 "cells": [
  {
   "cell_type": "code",
   "execution_count": 95,
   "metadata": {},
   "outputs": [],
   "source": [
    "import numpy as np\n",
    "import pandas as pd\n",
    "from scipy.stats import t\n",
    "\n",
    "def t_statistic_paired(n, D=0, Sd=1):\n",
    "    \"\"\"\n",
    "    The t-statistic for a t-test.\n",
    "    \\[ t = \\frac{\\overline{D}}{s_D/\\sqrt{n}} \\] \n",
    "    \n",
    "    Parameters\n",
    "    ------------------------\n",
    "    n   : number of samples\n",
    "    D   : sample mean\n",
    "    Sd  : standard deviation of the sample\n",
    "    \"\"\"\n",
    "    return (D / (Sd / np.sqrt(n)))\n",
    "\n",
    "def p_value_ttest(ts, n, tailed):\n",
    "    \"\"\"\n",
    "    Calculate p-value given a direction 'tailed'.\n",
    "    \n",
    "    Parameters\n",
    "    ---------------\n",
    "    ts: t-value\n",
    "    n : number of samples (df is calculated within the code)\n",
    "    tailed: two, left, right\n",
    "    \"\"\"\n",
    "    df = n - 1\n",
    "    if tailed.lower() == 'two':\n",
    "        p = 2 * (t.cdf(ts, df))\n",
    "    elif tailed.lower() == 'left':\n",
    "        p = t.cdf(ts, df)\n",
    "    elif tailed.lower() == 'right':\n",
    "        p = 1 - t.cdf(ts, df)\n",
    "    return p"
   ]
  },
  {
   "cell_type": "markdown",
   "metadata": {},
   "source": [
    "Paired samples t-test: Test statistic and p-value"
   ]
  },
  {
   "cell_type": "code",
   "execution_count": 145,
   "metadata": {},
   "outputs": [
    {
     "name": "stdout",
     "output_type": "stream",
     "text": [
      "t = -1.7186\n",
      "p =   0.057\n"
     ]
    }
   ],
   "source": [
    "#Prepares a dataframe from the provided table\n",
    "test = pd.read_excel('paired_test.xlsx',index_col=0)\n",
    "test = test.transpose()\n",
    "test.columns = ['X','Y']\n",
    "test.index.name = 'City'\n",
    "test['D'] = test['X'] - test['Y']\n",
    "\n",
    "#Obtains necessary variables\n",
    "D  = np.mean(test['D'].values)\n",
    "Sd = np.std(test['D'].values,ddof=1)\n",
    "n = len(test['D'])\n",
    "tail = 'left'\n",
    "\n",
    "#Calculates t and the p-value\n",
    "ts = t_statistic_paired(n, D, Sd)\n",
    "p  = p_value_ttest(ts,n,tail)\n",
    "\n",
    "#Prints results\n",
    "print('t = {:7.4f}'.format(ts))\n",
    "print('p = {:7.3f}'.format(p))"
   ]
  },
  {
   "cell_type": "markdown",
   "metadata": {},
   "source": [
    "Independent samples t-test: test statistic and p-value"
   ]
  },
  {
   "cell_type": "code",
   "execution_count": 131,
   "metadata": {},
   "outputs": [],
   "source": [
    "def t_statistic_independent(n, X=[0,0], s=[1,1]):\n",
    "    \"\"\"\n",
    "    The t-statistic for a t-test.\n",
    "    \\[ t = \\frac{\\overline{X}_1 - \\overline{X}_2}{\\sqrt{S_1^2/n_1 + S_2^2/n_2}} \\] \n",
    "    \n",
    "    Parameters\n",
    "    ------------------------\n",
    "    n   : list with number of samples\n",
    "    X   : list with sample mean\n",
    "    s   : list with standard deviation of the sample\n",
    "    \"\"\"\n",
    "    n1, n2 = n[0], n[1]\n",
    "    X1, X2 = X[0], X[1]\n",
    "    s1, s2 = s[0], s[1]\n",
    "    return ((X1 - X2) / np.sqrt(s1**2/n1 + s2**2/n2))"
   ]
  },
  {
   "cell_type": "code",
   "execution_count": 142,
   "metadata": {},
   "outputs": [
    {
     "name": "stdout",
     "output_type": "stream",
     "text": [
      "t =  2.8082\n",
      "p =   0.003\n"
     ]
    }
   ],
   "source": [
    "n = [59, 60]\n",
    "X = [19.1, 18.4]\n",
    "s = [1.5, 1.2]\n",
    "tail = 'right'\n",
    "\n",
    "#Calculates t and the p-value\n",
    "ts = t_statistic_independent(n, X, s)\n",
    "p  = p_value_ttest(ts,min(n),tail)\n",
    "\n",
    "#Prints results\n",
    "print('t = {:7.4f}'.format(ts))\n",
    "print('p = {:7.3f}'.format(p))"
   ]
  },
  {
   "cell_type": "code",
   "execution_count": null,
   "metadata": {},
   "outputs": [],
   "source": []
  }
 ],
 "metadata": {
  "kernelspec": {
   "display_name": "Python 3",
   "language": "python",
   "name": "python3"
  },
  "language_info": {
   "codemirror_mode": {
    "name": "ipython",
    "version": 3
   },
   "file_extension": ".py",
   "mimetype": "text/x-python",
   "name": "python",
   "nbconvert_exporter": "python",
   "pygments_lexer": "ipython3",
   "version": "3.6.8"
  }
 },
 "nbformat": 4,
 "nbformat_minor": 2
}
